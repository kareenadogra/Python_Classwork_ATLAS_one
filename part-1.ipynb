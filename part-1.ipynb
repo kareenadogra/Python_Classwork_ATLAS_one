{
 "cells": [
  {
   "cell_type": "markdown",
   "metadata": {},
   "source": [
    "# Getting Started\n",
    "\n",
    "In this exercise, you'll get familiar with the following basics of python:\n",
    "\n",
    "- Creating variables (lists, dictionaries)\n",
    "- Writing functions\n",
    "- List comprehensions"
   ]
  },
  {
   "cell_type": "markdown",
   "metadata": {},
   "source": [
    "# Student Details \n",
    "\n",
    "- Name: Kareena\n",
    "- Age: 20\n",
    "- Colour: Black\n",
    "\n",
    "*my name is Kareena*\n",
    "\n",
    "**my dogs name is Buddy**\n"
   ]
  },
  {
   "cell_type": "markdown",
   "metadata": {},
   "source": [
    "# Basic variables\n",
    "Variables in python are loosely typed, so you can quickly create numeric, character, or boolean values. Variable names should be expressive, and be written as lower-case words that are underscore separated (i.e., `variable_name`)"
   ]
  },
  {
   "cell_type": "code",
   "execution_count": 1,
   "metadata": {},
   "outputs": [
    {
     "data": {
      "text/plain": [
       "'Kareena Dogra'"
      ]
     },
     "execution_count": 1,
     "metadata": {},
     "output_type": "execute_result"
    }
   ],
   "source": [
    "# Student Name \n",
    "\n",
    "student_name = \"Kareena Dogra\"\n",
    "student_name\n"
   ]
  },
  {
   "cell_type": "code",
   "execution_count": 2,
   "metadata": {},
   "outputs": [
    {
     "data": {
      "text/plain": [
       "20"
      ]
     },
     "execution_count": 2,
     "metadata": {},
     "output_type": "execute_result"
    }
   ],
   "source": [
    "# Kareena Age\n",
    "\n",
    "kareena_age = 20\n",
    "kareena_age"
   ]
  },
  {
   "cell_type": "code",
   "execution_count": 3,
   "metadata": {},
   "outputs": [
    {
     "data": {
      "text/plain": [
       "45"
      ]
     },
     "execution_count": 3,
     "metadata": {},
     "output_type": "execute_result"
    }
   ],
   "source": [
    "# Mom Age\n",
    "\n",
    "mom_age = 45\n",
    "mom_age"
   ]
  },
  {
   "cell_type": "code",
   "execution_count": 4,
   "metadata": {},
   "outputs": [
    {
     "data": {
      "text/plain": [
       "48"
      ]
     },
     "execution_count": 4,
     "metadata": {},
     "output_type": "execute_result"
    }
   ],
   "source": [
    "# Dad Age\n",
    "\n",
    "dad_age = 48\n",
    "dad_age"
   ]
  },
  {
   "cell_type": "code",
   "execution_count": 5,
   "metadata": {},
   "outputs": [
    {
     "data": {
      "text/plain": [
       "56.5"
      ]
     },
     "execution_count": 5,
     "metadata": {},
     "output_type": "execute_result"
    }
   ],
   "source": [
    "# Average Age\n",
    "\n",
    "Average_age = (kareena_age + mom_age + dad_age)/2\n",
    "Average_age"
   ]
  },
  {
   "cell_type": "code",
   "execution_count": 6,
   "metadata": {},
   "outputs": [
    {
     "data": {
      "text/plain": [
       "False"
      ]
     },
     "execution_count": 6,
     "metadata": {},
     "output_type": "execute_result"
    }
   ],
   "source": [
    "# Is my mom older than my father\n",
    "mom_is_older = mom_age> dad_age\n",
    "mom_is_older"
   ]
  },
  {
   "cell_type": "code",
   "execution_count": 36,
   "metadata": {},
   "outputs": [
    {
     "data": {
      "text/plain": [
       "'8760 hours'"
      ]
     },
     "execution_count": 36,
     "metadata": {},
     "output_type": "execute_result"
    }
   ],
   "source": [
    "# Create a numeric variable `hours_in_a_year` equal to the number of hours in a year\n",
    "\n",
    "# A normal year has 365 days and one day has 24 hours\n",
    "days_in_a_year = 365\n",
    "hours_in_a_day = 24\n",
    "hours_in_a_year = str((days_in_a_year*hours_in_a_day)) + \" hours\"\n",
    "hours_in_a_year"
   ]
  },
  {
   "cell_type": "code",
   "execution_count": null,
   "metadata": {},
   "outputs": [],
   "source": []
  },
  {
   "cell_type": "code",
   "execution_count": 2,
   "metadata": {},
   "outputs": [
    {
     "data": {
      "text/plain": [
       "'86400 seconds'"
      ]
     },
     "execution_count": 2,
     "metadata": {},
     "output_type": "execute_result"
    }
   ],
   "source": [
    "# Create a numeric variable `seconds_in_a_day` equal to the number of seconds in a day\n",
    "\n",
    "# One day has 24 hours \n",
    "# One hour has 60 minutes \n",
    "# One minute has 60 seconds\n",
    "seconds_in_a_day = str((24 * 60 * 60)) + \" seconds\"\n",
    "seconds_in_a_day"
   ]
  },
  {
   "cell_type": "code",
   "execution_count": 3,
   "metadata": {},
   "outputs": [
    {
     "data": {
      "text/plain": [
       "False"
      ]
     },
     "execution_count": 3,
     "metadata": {},
     "output_type": "execute_result"
    }
   ],
   "source": [
    "# Create a boolean variable `more_seconds_than_hours` that is true \n",
    "# if there are more seconds in a day than hours in a year\n",
    "more_seconds_than_hours = seconds_in_a_day > hours_in_a_year \n",
    "more_seconds_than_hours"
   ]
  },
  {
   "cell_type": "code",
   "execution_count": 4,
   "metadata": {},
   "outputs": [
    {
     "name": "stdout",
     "output_type": "stream",
     "text": [
      "8760 hours\n",
      "86400 seconds\n",
      "False\n"
     ]
    }
   ],
   "source": [
    "# Print out all 3 of your variables\n",
    "print(hours_in_a_year)\n",
    "print(seconds_in_a_day)\n",
    "print(more_seconds_than_hours)\n"
   ]
  },
  {
   "cell_type": "code",
   "execution_count": 5,
   "metadata": {},
   "outputs": [
    {
     "name": "stdout",
     "output_type": "stream",
     "text": [
      "I just learned that there are 8760 hourshours in a year, and 86400 seconds seconds in a day\n"
     ]
    }
   ],
   "source": [
    "# Create and print a character variable `learned` that holds the string:\n",
    "# \"I just learned that there are X hours in a year, and Y seconds in a day\"\n",
    "# Replace X and Y with the values from above\n",
    "\n",
    "learned = \"I just learned that there are \" +  hours_in_a_year + \"hours in a year, and \" + seconds_in_a_day + \" seconds in a day\"\n",
    "print(learned)\n"
   ]
  },
  {
   "cell_type": "markdown",
   "metadata": {},
   "source": [
    "# Lists and Dictionaries\n",
    "\n",
    "## Lists\n",
    "A **list** is a mutable, ordered sequence of values that are all stored in a single variable. You can create a list of elements by placing comma separated values inside of square brackets. Note, elements may be of different types.\n"
   ]
  },
  {
   "cell_type": "code",
   "execution_count": 6,
   "metadata": {},
   "outputs": [
    {
     "data": {
      "text/plain": [
       "['Utsav', 'Varun', 'Zubair']"
      ]
     },
     "execution_count": 6,
     "metadata": {},
     "output_type": "execute_result"
    }
   ],
   "source": [
    "# Create a list `friends` that has a list of 3 of your friends' names in it\n",
    "friends = [\"Utsav\", \"Varun\", \"Zubair\"]\n",
    "friends"
   ]
  },
  {
   "cell_type": "code",
   "execution_count": 1,
   "metadata": {},
   "outputs": [
    {
     "data": {
      "text/plain": [
       "['Arsh', 'Gayatri', 'Ishaan']"
      ]
     },
     "execution_count": 1,
     "metadata": {},
     "output_type": "execute_result"
    }
   ],
   "source": [
    "friends_at_isme= [\"Arsh\",\"Gayatri\",\"Ishaan\" ]\n",
    "friends_at_isme"
   ]
  },
  {
   "cell_type": "code",
   "execution_count": 2,
   "metadata": {},
   "outputs": [
    {
     "data": {
      "text/plain": [
       "'Gayatri'"
      ]
     },
     "execution_count": 2,
     "metadata": {},
     "output_type": "execute_result"
    }
   ],
   "source": [
    "friends_at_isme[1]"
   ]
  },
  {
   "cell_type": "code",
   "execution_count": 3,
   "metadata": {},
   "outputs": [
    {
     "data": {
      "text/plain": [
       "['Arsh', 'Gayatri', 'Ishaan', 'Riya']"
      ]
     },
     "execution_count": 3,
     "metadata": {},
     "output_type": "execute_result"
    }
   ],
   "source": [
    "friends_at_isme.append(\"Riya\")\n",
    "friends_at_isme"
   ]
  },
  {
   "cell_type": "code",
   "execution_count": 5,
   "metadata": {},
   "outputs": [
    {
     "data": {
      "text/plain": [
       "[]"
      ]
     },
     "execution_count": 5,
     "metadata": {},
     "output_type": "execute_result"
    }
   ],
   "source": [
    "friends_at_isme.clear()\n",
    "friends_at_isme"
   ]
  },
  {
   "cell_type": "code",
   "execution_count": 7,
   "metadata": {},
   "outputs": [
    {
     "data": {
      "text/plain": [
       "['Kashmira', 'Marbin', 'Zahid']"
      ]
     },
     "execution_count": 7,
     "metadata": {},
     "output_type": "execute_result"
    }
   ],
   "source": [
    "# Create a list `family` that has a list of 3 of your family members' names in it\n",
    "family = [\"Kashmira\", \"Marbin\", \"Zahid\"]\n",
    "family"
   ]
  },
  {
   "cell_type": "code",
   "execution_count": 8,
   "metadata": {},
   "outputs": [
    {
     "data": {
      "text/plain": [
       "['Kashmira', 'Marbin', 'Zahid', 'Zoshua']"
      ]
     },
     "execution_count": 8,
     "metadata": {},
     "output_type": "execute_result"
    }
   ],
   "source": [
    "# Use the `append` list method to add another family member to your `family` list\n",
    "family.append(\"Zoshua\")\n",
    "family"
   ]
  },
  {
   "cell_type": "code",
   "execution_count": 9,
   "metadata": {},
   "outputs": [
    {
     "data": {
      "text/plain": [
       "['Kashmira', 'Marbin', 'Zahid', 'Zoshua', 'Utsav', 'Varun', 'Zubair']"
      ]
     },
     "execution_count": 9,
     "metadata": {},
     "output_type": "execute_result"
    }
   ],
   "source": [
    "# Create and print a list `people` that contains your lists `friends` and `family`\n",
    "\n",
    "people = family + friends\n",
    "people"
   ]
  },
  {
   "cell_type": "markdown",
   "metadata": {},
   "source": [
    "## Dictionaries\n",
    "A **dictionary** is an object stores a _key-value pair_ in python. You can create a dictionary by passing _colon separated_ pairs inside of curly braces (i.e., `dict = {'key':value}`)"
   ]
  },
  {
   "cell_type": "code",
   "execution_count": 10,
   "metadata": {},
   "outputs": [
    {
     "name": "stdout",
     "output_type": "stream",
     "text": [
      "{'family': ['Kashmira', 'Marbin', 'Zahid', 'Zoshua'], 'friends': ['Utsav', 'Varun', 'Zubair']}\n"
     ]
    }
   ],
   "source": [
    "# Create a dictionary `people_dict` that has a key for `family` and a key for `friends` (using values above)\n",
    "\n",
    "people_dict = {\"family\":family, \"friends\":friends}\n",
    "print(people_dict)\n"
   ]
  },
  {
   "cell_type": "code",
   "execution_count": 6,
   "metadata": {},
   "outputs": [
    {
     "data": {
      "text/plain": [
       "{'Name': 'kareena',\n",
       " 'Favourite food': 'sushi',\n",
       " 'school': 'cathedral',\n",
       " 'favourite drink': 'iced tea'}"
      ]
     },
     "execution_count": 6,
     "metadata": {},
     "output_type": "execute_result"
    }
   ],
   "source": [
    "kareena_dictionary= {\"Name\": \"kareena\",\n",
    "                      \"Favourite food\": \"sushi\",\n",
    "                     \"school\": \"cathedral\", \n",
    "                     \"favourite drink\": \"iced tea\"}\n",
    "kareena_dictionary"
   ]
  },
  {
   "cell_type": "code",
   "execution_count": 13,
   "metadata": {},
   "outputs": [
    {
     "data": {
      "text/plain": [
       "'cathedral'"
      ]
     },
     "execution_count": 13,
     "metadata": {},
     "output_type": "execute_result"
    }
   ],
   "source": [
    "kareena_dictionary[\"school\"]"
   ]
  },
  {
   "cell_type": "code",
   "execution_count": 12,
   "metadata": {},
   "outputs": [
    {
     "data": {
      "text/plain": [
       "{'Name': 'kareena',\n",
       " 'Favourite food': 'sushi',\n",
       " 'school': 'cathedral',\n",
       " 'favourite drink': 'iced tea',\n",
       " 'age': [20]}"
      ]
     },
     "execution_count": 12,
     "metadata": {},
     "output_type": "execute_result"
    }
   ],
   "source": [
    "kareena_dictionary[ \"age\"]= [20]\n",
    "kareena_dictionary"
   ]
  },
  {
   "cell_type": "code",
   "execution_count": 14,
   "metadata": {},
   "outputs": [
    {
     "data": {
      "text/plain": [
       "5"
      ]
     },
     "execution_count": 14,
     "metadata": {},
     "output_type": "execute_result"
    }
   ],
   "source": [
    "#total keys for kareena dictionary\n",
    "num_keys_kareena_dictionary = len(kareena_dictionary)\n",
    "num_keys_kareena_dictionary"
   ]
  },
  {
   "cell_type": "code",
   "execution_count": 11,
   "metadata": {},
   "outputs": [
    {
     "data": {
      "text/plain": [
       "{'coworkers': ['zubair', 'ansul', 'yiran'],\n",
       " 'family': ['Kashmira', 'Marbin', 'Zahid', 'Zoshua'],\n",
       " 'friends': ['Utsav', 'Varun', 'Zubair']}"
      ]
     },
     "execution_count": 11,
     "metadata": {},
     "output_type": "execute_result"
    }
   ],
   "source": [
    "# Add a new key `coworkers` to your `people_dict` object (it should contain 3 names of coworkers) \n",
    "people_dict[\"coworkers\"] = [\"zubair\", \"ansul\", \"yiran\"]\n",
    "people_dict"
   ]
  },
  {
   "cell_type": "code",
   "execution_count": 12,
   "metadata": {},
   "outputs": [
    {
     "name": "stdout",
     "output_type": "stream",
     "text": [
      "{'family': ['Kashmira', 'Marbin', 'Zahid', 'Zoshua'], 'friends': ['Utsav', 'Varun', 'Zubair'], 'coworkers': ['zubair', 'ansul', 'yiran']}\n"
     ]
    }
   ],
   "source": [
    "# Print your people_dict object\n",
    "print(people_dict)"
   ]
  },
  {
   "cell_type": "code",
   "execution_count": 13,
   "metadata": {},
   "outputs": [
    {
     "data": {
      "text/plain": [
       "3"
      ]
     },
     "execution_count": 13,
     "metadata": {},
     "output_type": "execute_result"
    }
   ],
   "source": [
    "# Create and print a variable `num_people_categories` that conatins the *number of keys* of your `people_dict` \n",
    "num_people_categories = len(people_dict)\n",
    "num_people_categories"
   ]
  },
  {
   "cell_type": "markdown",
   "metadata": {},
   "source": [
    "# Functions\n",
    "Functions are a series of executable steps stored in a variable. They can be created with the `def` keyword."
   ]
  },
  {
   "cell_type": "code",
   "execution_count": 14,
   "metadata": {},
   "outputs": [],
   "source": [
    "# Write a function `make_awesome` that adds the string \" is awesome!\" to the end of any parameter it is passed\n",
    "# Include a proper doc string that describes what the function returns\n",
    "\n",
    "\n",
    "# returns the words \" is awesome\" after the string (text_input) passed through parameters\n",
    "def make_awesome(text_input): \n",
    "    return text_input + \" is awesome!\"\n",
    "\n",
    "\n"
   ]
  },
  {
   "cell_type": "code",
   "execution_count": 17,
   "metadata": {},
   "outputs": [],
   "source": [
    "#addition\n",
    "def add_two_numbers (number1, number2) :\n",
    "    print (\"number 1 is\", number1)\n",
    "    print (\"number 2 is\", number2)\n",
    "    total= number1+number2\n",
    "    return total"
   ]
  },
  {
   "cell_type": "code",
   "execution_count": 19,
   "metadata": {},
   "outputs": [
    {
     "name": "stdout",
     "output_type": "stream",
     "text": [
      "number 1 is 3\n",
      "number 2 is 4\n"
     ]
    },
    {
     "data": {
      "text/plain": [
       "7"
      ]
     },
     "execution_count": 19,
     "metadata": {},
     "output_type": "execute_result"
    }
   ],
   "source": [
    "add_two_numbers(3,4)\n"
   ]
  },
  {
   "cell_type": "code",
   "execution_count": null,
   "metadata": {},
   "outputs": [],
   "source": []
  },
  {
   "cell_type": "markdown",
   "metadata": {},
   "source": [
    "# create a function that is called average that accepts 2 numbers and returns their average\n",
    "\n"
   ]
  },
  {
   "cell_type": "code",
   "execution_count": 15,
   "metadata": {},
   "outputs": [
    {
     "data": {
      "text/plain": [
       "'data science is awesome!'"
      ]
     },
     "execution_count": 15,
     "metadata": {},
     "output_type": "execute_result"
    }
   ],
   "source": [
    "# Pass \"Data Science\" to your function\n",
    "make_awesome(\"data science\")\n"
   ]
  },
  {
   "cell_type": "code",
   "execution_count": 16,
   "metadata": {},
   "outputs": [],
   "source": [
    "# Write a function `is_it_awesome` that returns a boolean (true/false) if a string has the word \"awesome\" in it\n",
    "# Include a proper doc string that describes what the function returns\n",
    "\n",
    "# returns a boolean if the string passed through parameters contains \"awesome\"\n",
    "def is_it_awesome(text_input): \n",
    "    return \"awesome\" in text_input\n",
    "\n",
    "\n",
    "    "
   ]
  },
  {
   "cell_type": "code",
   "execution_count": 17,
   "metadata": {},
   "outputs": [
    {
     "data": {
      "text/plain": [
       "True"
      ]
     },
     "execution_count": 17,
     "metadata": {},
     "output_type": "execute_result"
    }
   ],
   "source": [
    "# Pass a phrase of your choice to the `is_it_awesome` function\n",
    "\n",
    "is_it_awesome(\"mike is awesome\")\n"
   ]
  },
  {
   "cell_type": "code",
   "execution_count": 18,
   "metadata": {},
   "outputs": [],
   "source": [
    "# Write a more general function `phrase_has_string` that takes in a `phrase` and a `string` and returns\n",
    "# A boolean indicating if the phrase contains the string. It should not be case sensitive.\n",
    "# Include a proper doc string that describes what the function returns\n",
    "\n",
    "# returns a boolean if the text contains the phrase passed through the parameters\n",
    "def phrase_has_string(phrase, text_input): \n",
    "    return phrase in text_input\n"
   ]
  },
  {
   "cell_type": "code",
   "execution_count": 19,
   "metadata": {},
   "outputs": [
    {
     "data": {
      "text/plain": [
       "True"
      ]
     },
     "execution_count": 19,
     "metadata": {},
     "output_type": "execute_result"
    }
   ],
   "source": [
    "# Test out your function\n",
    "phrase_has_string(\"car\", \"I want a car ...amongst other things\")"
   ]
  },
  {
   "cell_type": "code",
   "execution_count": 23,
   "metadata": {},
   "outputs": [],
   "source": [
    "# Define a function `count_relationships` that takes in a dictionary of relationships (such as `people_dict`)\n",
    "# And returns a dictionary of the number of relationships of each type (i.e. {\"friends\":4, \"family\":3})\n",
    "# Hint: use a loop\n",
    "# Include a proper doc string that describes what the function returns\n",
    "\n",
    "\n",
    "# returns the number of values in a list for each key in the dictionary passed through the parameters\n",
    "def count_relationships(relationships):\n",
    "    for k in relationships:\n",
    "        relationships[k] = len(relationships[k])\n",
    "    return (relationships)"
   ]
  },
  {
   "cell_type": "code",
   "execution_count": 27,
   "metadata": {},
   "outputs": [],
   "source": []
  },
  {
   "cell_type": "code",
   "execution_count": 29,
   "metadata": {},
   "outputs": [
    {
     "data": {
      "text/plain": [
       "{'coworkers': 3, 'family': 4, 'friends': 3}"
      ]
     },
     "execution_count": 29,
     "metadata": {},
     "output_type": "execute_result"
    }
   ],
   "source": [
    "# Pass `people_dict` to `count_relationships`\n",
    "count_relationships(people_dict)"
   ]
  },
  {
   "cell_type": "code",
   "execution_count": 26,
   "metadata": {},
   "outputs": [],
   "source": [
    "# Define a function `total_relationships` take in a dictionary of relationships (such as `people_dict`)\n",
    "# And returns the total number of relationships\n",
    "# Hint: use a *list comprehension* and your `count_relationships` function (separately)\n",
    "# Include a proper doc string that describes what the function returns\n",
    "\n",
    "# returns the total number of relationships in the dictionary passed to it through the pararmeters\n",
    "def total_relationships(relationships):\n",
    "    d_new = count_relationships(relationships)\n",
    "    total = 0\n",
    "    for k in d_new:\n",
    "        total = total + d_new[k]\n",
    "    return total"
   ]
  },
  {
   "cell_type": "code",
   "execution_count": 32,
   "metadata": {},
   "outputs": [],
   "source": [
    "test = {'family': ['Kashmira', 'Marbin', 'Zahid', 'Zoshua'],\n",
    " 'friends': ['Utsav', 'Varun', 'Zubair'],\n",
    " 'coworkers': ['zubair', 'ansul', 'yiran']}"
   ]
  },
  {
   "cell_type": "code",
   "execution_count": 33,
   "metadata": {},
   "outputs": [
    {
     "data": {
      "text/plain": [
       "10"
      ]
     },
     "execution_count": 33,
     "metadata": {},
     "output_type": "execute_result"
    }
   ],
   "source": [
    "# Use the `total_relationships` function to count the number of people in `people_dict`\n",
    "\n",
    "# total_rel = total_relationships(people_dict)\n",
    "# for some reason my people_dict variable gets messed up after it runs in the count_relationships\n",
    "\n",
    "# I have used test due to the error I get when I try to use the people_dict variable\n",
    "total_rel = total_relationships(test)\n",
    "total_rel"
   ]
  }
 ],
 "metadata": {
  "kernelspec": {
   "display_name": "Python 3",
   "language": "python",
   "name": "python3"
  },
  "language_info": {
   "codemirror_mode": {
    "name": "ipython",
    "version": 3
   },
   "file_extension": ".py",
   "mimetype": "text/x-python",
   "name": "python",
   "nbconvert_exporter": "python",
   "pygments_lexer": "ipython3",
   "version": "3.8.8"
  }
 },
 "nbformat": 4,
 "nbformat_minor": 2
}
